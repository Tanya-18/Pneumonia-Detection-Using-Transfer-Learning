{
 "cells": [
  {
   "cell_type": "code",
   "execution_count": 5,
   "id": "ebff59b3",
   "metadata": {},
   "outputs": [],
   "source": [
    "import os\n",
    "import numpy as np\n",
    "import tensorflow as tf\n",
    "import pandas as pd\n",
    "import matplotlib.pyplot as plt\n",
    "import matplotlib.image as mpimg\n",
    "from keras.preprocessing.image import ImageDataGenerator\n",
    "from tensorflow.keras.optimizers import RMSprop\n",
    "from keras.preprocessing import image\n",
    "\n",
    "%matplotlib inline"
   ]
  },
  {
   "cell_type": "code",
   "execution_count": 6,
   "id": "947dce44",
   "metadata": {},
   "outputs": [
    {
     "name": "stdout",
     "output_type": "stream",
     "text": [
      "Dataset loaded!!\n"
     ]
    }
   ],
   "source": [
    "train_dir = \"data/chest_xray/train\"\n",
    "test_dir = \"data/chest_xray/test\"\n",
    "val_dir = \"data/chest_xray/val\"\n",
    "print(\"Dataset loaded!!\")"
   ]
  },
  {
   "cell_type": "code",
   "execution_count": 7,
   "id": "227e68b5",
   "metadata": {},
   "outputs": [
    {
     "name": "stdout",
     "output_type": "stream",
     "text": [
      "Train set:\n",
      "------------------------------------------------------------\n",
      "PNEUMONIA=3875\n",
      "NORMAL=1341\n",
      "\n",
      "Test set:\n",
      "------------------------------------------------------------\n",
      "PNEUMONIA=390\n",
      "NORMAL=234\n",
      "\n",
      "Validation set\n",
      "------------------------------------------------------------\n",
      "PNEUMONIA=8\n",
      "NORMAL=8\n"
     ]
    }
   ],
   "source": [
    "print(\"Train set:\")\n",
    "print(\"-\"*60)\n",
    "num_pneumonia = len(os.listdir(os.path.join(train_dir, 'PNEUMONIA')))\n",
    "num_normal = len(os.listdir(os.path.join(train_dir, 'NORMAL')))\n",
    "print(f\"PNEUMONIA={num_pneumonia}\")\n",
    "print(f\"NORMAL={num_normal}\")\n",
    "\n",
    "print(\"\\nTest set:\")\n",
    "print('-'*60)\n",
    "print(f\"PNEUMONIA={len(os.listdir(os.path.join(test_dir, 'PNEUMONIA')))}\")\n",
    "print(f\"NORMAL={len(os.listdir(os.path.join(test_dir, 'NORMAL')))}\")\n",
    "\n",
    "print(\"\\nValidation set\")\n",
    "print('-'*60)\n",
    "print(f\"PNEUMONIA={len(os.listdir(os.path.join(val_dir, 'PNEUMONIA')))}\")\n",
    "print(f\"NORMAL={len(os.listdir(os.path.join(val_dir, 'NORMAL')))}\")\n",
    "\n",
    "pneumonia = os.listdir(\"data/chest_xray/train/PNEUMONIA\")\n",
    "pneumonia_dir = \"data/chest_xray/train/PNEUMONIA\""
   ]
  },
  {
   "cell_type": "code",
   "execution_count": 8,
   "id": "84929ea5",
   "metadata": {},
   "outputs": [
    {
     "name": "stdout",
     "output_type": "stream",
     "text": [
      "Model: \"sequential\"\n",
      "_________________________________________________________________\n",
      " Layer (type)                Output Shape              Param #   \n",
      "=================================================================\n",
      " conv2d (Conv2D)             (None, 298, 298, 16)      448       \n",
      "                                                                 \n",
      " max_pooling2d (MaxPooling2D  (None, 149, 149, 16)     0         \n",
      " )                                                               \n",
      "                                                                 \n",
      " conv2d_1 (Conv2D)           (None, 147, 147, 32)      4640      \n",
      "                                                                 \n",
      " max_pooling2d_1 (MaxPooling  (None, 73, 73, 32)       0         \n",
      " 2D)                                                             \n",
      "                                                                 \n",
      " conv2d_2 (Conv2D)           (None, 71, 71, 64)        18496     \n",
      "                                                                 \n",
      " max_pooling2d_2 (MaxPooling  (None, 35, 35, 64)       0         \n",
      " 2D)                                                             \n",
      "                                                                 \n",
      " conv2d_3 (Conv2D)           (None, 33, 33, 64)        36928     \n",
      "                                                                 \n",
      " max_pooling2d_3 (MaxPooling  (None, 16, 16, 64)       0         \n",
      " 2D)                                                             \n",
      "                                                                 \n",
      " conv2d_4 (Conv2D)           (None, 14, 14, 64)        36928     \n",
      "                                                                 \n",
      " max_pooling2d_4 (MaxPooling  (None, 7, 7, 64)         0         \n",
      " 2D)                                                             \n",
      "                                                                 \n",
      " flatten (Flatten)           (None, 3136)              0         \n",
      "                                                                 \n",
      " dense (Dense)               (None, 512)               1606144   \n",
      "                                                                 \n",
      " dense_1 (Dense)             (None, 1)                 513       \n",
      "                                                                 \n",
      "=================================================================\n",
      "Total params: 1,704,097\n",
      "Trainable params: 1,704,097\n",
      "Non-trainable params: 0\n",
      "_________________________________________________________________\n"
     ]
    },
    {
     "name": "stderr",
     "output_type": "stream",
     "text": [
      "C:\\Users\\91790\\anaconda3\\envs\\tensorflow-environment\\lib\\site-packages\\keras\\optimizers\\optimizer_v2\\rmsprop.py:135: UserWarning: The `lr` argument is deprecated, use `learning_rate` instead.\n",
      "  super(RMSprop, self).__init__(name, **kwargs)\n"
     ]
    }
   ],
   "source": [
    "model = tf.keras.models.Sequential([\n",
    "  \n",
    "    # Note the input shape is the desired size of the image 300x300 with 3 bytes color\n",
    "    # This is the first convolution\n",
    "    tf.keras.layers.Conv2D(16, (3,3), activation='relu', input_shape=(300, 300, 3)),\n",
    "    tf.keras.layers.MaxPooling2D(2, 2),\n",
    "  \n",
    "    # The second convolution\n",
    "    tf.keras.layers.Conv2D(32, (3,3), activation='relu'),\n",
    "    tf.keras.layers.MaxPooling2D(2,2),\n",
    "  \n",
    "    # The third convolution\n",
    "    tf.keras.layers.Conv2D(64, (3,3), activation='relu'),\n",
    "    tf.keras.layers.MaxPooling2D(2,2),\n",
    "  \n",
    "    # The fourth convolution\n",
    "    tf.keras.layers.Conv2D(64, (3,3), activation='relu'),\n",
    "    tf.keras.layers.MaxPooling2D(2,2),\n",
    "  \n",
    "    # The fifth convolution\n",
    "    tf.keras.layers.Conv2D(64, (3,3), activation='relu'),\n",
    "    tf.keras.layers.MaxPooling2D(2,2),\n",
    "\n",
    "  \n",
    "    tf.keras.layers.Flatten(),\n",
    "    tf.keras.layers.Dense(512, activation='relu'), # 512 neuron hidden layer\n",
    "    # Only 1 output neuron. It will contain a value from 0-1 where 0 for ('normal') clas and 1 for ('pneumonia') class\n",
    "    tf.keras.layers.Dense(1, activation='sigmoid')\n",
    "])\n",
    "\n",
    "# to get the summary of the model\n",
    "model.summary()\n",
    "\n",
    "# configure the model for traning by adding metrics\n",
    "model.compile(loss='binary_crossentropy', optimizer=RMSprop(lr=0.001), metrics = ['accuracy'])\n"
   ]
  },
  {
   "cell_type": "code",
   "execution_count": 9,
   "id": "d5e3cf72",
   "metadata": {},
   "outputs": [
    {
     "name": "stdout",
     "output_type": "stream",
     "text": [
      "Found 5216 images belonging to 2 classes.\n",
      "Found 16 images belonging to 2 classes.\n",
      "Epoch 1/10\n",
      "10/10 [==============================] - 78s 7s/step - loss: 0.6467 - accuracy: 0.6562 - val_loss: 0.9206 - val_accuracy: 0.5000\n",
      "Epoch 2/10\n",
      "10/10 [==============================] - 70s 7s/step - loss: 0.6707 - accuracy: 0.6922 - val_loss: 0.9020 - val_accuracy: 0.4375\n",
      "Epoch 3/10\n",
      "10/10 [==============================] - 65s 6s/step - loss: 0.4138 - accuracy: 0.8406 - val_loss: 0.4992 - val_accuracy: 0.6875\n",
      "Epoch 4/10\n",
      "10/10 [==============================] - 60s 6s/step - loss: 0.3481 - accuracy: 0.8461 - val_loss: 0.5854 - val_accuracy: 0.6875\n",
      "Epoch 5/10\n",
      "10/10 [==============================] - 63s 6s/step - loss: 0.3608 - accuracy: 0.8617 - val_loss: 0.5711 - val_accuracy: 0.6875\n",
      "Epoch 6/10\n",
      "10/10 [==============================] - 55s 5s/step - loss: 0.2465 - accuracy: 0.9030 - val_loss: 0.3921 - val_accuracy: 0.8125\n",
      "Epoch 7/10\n",
      "10/10 [==============================] - 62s 6s/step - loss: 0.2970 - accuracy: 0.8867 - val_loss: 0.3186 - val_accuracy: 0.8750\n",
      "Epoch 8/10\n",
      "10/10 [==============================] - 66s 6s/step - loss: 0.2274 - accuracy: 0.9038 - val_loss: 0.3583 - val_accuracy: 0.8125\n",
      "Epoch 9/10\n",
      "10/10 [==============================] - 61s 6s/step - loss: 0.2290 - accuracy: 0.9047 - val_loss: 0.4980 - val_accuracy: 0.8125\n",
      "Epoch 10/10\n",
      "10/10 [==============================] - 63s 6s/step - loss: 0.2883 - accuracy: 0.9151 - val_loss: 0.3371 - val_accuracy: 0.8125\n"
     ]
    }
   ],
   "source": [
    "train_datagen = ImageDataGenerator(rescale = 1/255)\n",
    "test_datagen = ImageDataGenerator(rescale = 1/255)\n",
    "\n",
    "\n",
    "train_generator = train_datagen.flow_from_directory(\n",
    "    train_dir,\n",
    "    target_size = (300,300),\n",
    "    batch_size = 128,\n",
    "    class_mode = 'binary'\n",
    ")\n",
    "\n",
    "validation_generator = test_datagen.flow_from_directory(\n",
    "    val_dir,\n",
    "    target_size = (300, 300),\n",
    "    batch_size = 128,\n",
    "    class_mode = 'binary'\n",
    ")\n",
    "\n",
    "# training the model\n",
    "history = model.fit(\n",
    "    train_generator,\n",
    "    steps_per_epoch = 10,\n",
    "    epochs = 10,\n",
    "    validation_data = validation_generator\n",
    ")"
   ]
  },
  {
   "cell_type": "code",
   "execution_count": 13,
   "id": "fd107ae4",
   "metadata": {},
   "outputs": [
    {
     "name": "stdout",
     "output_type": "stream",
     "text": [
      "Found 624 images belonging to 2 classes.\n"
     ]
    },
    {
     "name": "stderr",
     "output_type": "stream",
     "text": [
      "C:\\Users\\91790\\AppData\\Local\\Temp\\ipykernel_19048\\3507012436.py:11: UserWarning: `Model.evaluate_generator` is deprecated and will be removed in a future version. Please use `Model.evaluate`, which supports generators.\n",
      "  eval_result = model.evaluate_generator(test_generator, 624)\n"
     ]
    },
    {
     "name": "stdout",
     "output_type": "stream",
     "text": [
      "WARNING:tensorflow:Your input ran out of data; interrupting training. Make sure that your dataset or generator can generate at least `steps_per_epoch * epochs` batches (in this case, 624 batches). You may need to use the repeat() function when building your dataset.\n",
      "loss rate at evaluation data : 0.3839907944202423\n",
      "accuracy rate at evaluation data : 0.8349359035491943\n"
     ]
    }
   ],
   "source": [
    "# load new unseen dataset\n",
    "val_datagen = ImageDataGenerator(rescale = 1/255)\n",
    "\n",
    "test_generator = val_datagen.flow_from_directory(\n",
    "    test_dir,\n",
    "    target_size = (300, 300),\n",
    "    batch_size = 128, \n",
    "    class_mode = 'binary'\n",
    ")\n",
    "\n",
    "eval_result = model.evaluate_generator(test_generator, 624)\n",
    "print('loss rate at evaluation data :', eval_result[0])\n",
    "print('accuracy rate at evaluation data :', eval_result[1])"
   ]
  },
  {
   "cell_type": "code",
   "execution_count": 14,
   "id": "d691d622",
   "metadata": {},
   "outputs": [
    {
     "data": {
      "image/png": "[encoded data removed]",
      "text/plain": [
       "<Figure size 720x360 with 2 Axes>"
      ]
     },
     "metadata": {
      "needs_background": "light"
     },
     "output_type": "display_data"
    }
   ],
   "source": [
    "fig, ax = plt.subplots(1,2)\n",
    "fig.set_size_inches(10,5)\n",
    "\n",
    "metric = ['accuracy', 'loss']\n",
    "for i, m in enumerate(metric):\n",
    "  ax[i].plot(history.history[m])\n",
    "  ax[i].plot(history.history['val_'+ m])\n",
    "  ax[i].set_title('Model {}'.format(m))\n",
    "  ax[i].set_xlabel('epochs')\n",
    "  ax[i].set_ylabel('m')\n",
    "  ax[i].legend(['train', 'validation'])"
   ]
  },
  {
   "cell_type": "code",
   "execution_count": null,
   "id": "2b858f2f",
   "metadata": {},
   "outputs": [],
   "source": []
  }
 ],
 "metadata": {
  "kernelspec": {
   "display_name": "tensorflow-environment",
   "language": "python",
   "name": "tensorflow-environment"
  },
  "language_info": {
   "codemirror_mode": {
    "name": "ipython",
    "version": 3
   },
   "file_extension": ".py",
   "mimetype": "text/x-python",
   "name": "python",
   "nbconvert_exporter": "python",
   "pygments_lexer": "ipython3",
   "version": "3.8.8"
  }
 },
 "nbformat": 4,
 "nbformat_minor": 5
}
